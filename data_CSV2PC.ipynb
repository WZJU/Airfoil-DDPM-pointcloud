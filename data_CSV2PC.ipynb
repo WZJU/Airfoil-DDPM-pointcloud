{
 "cells": [
  {
   "cell_type": "code",
   "execution_count": 1,
   "id": "c57ba5f7",
   "metadata": {},
   "outputs": [],
   "source": [
    "import torch\n",
    "import Airfoil_DDPM_tools\n",
    "import os\n",
    "import pandas as pd\n",
    "import numpy as np"
   ]
  },
  {
   "cell_type": "code",
   "execution_count": 2,
   "id": "3e108a6d",
   "metadata": {},
   "outputs": [],
   "source": [
    "data_location=os.path.join(\"data\",\"ACcontext_combined_m2.csv\")\n",
    "data = pd.read_csv(data_location)\n",
    "data.fillna(0, inplace=True)"
   ]
  },
  {
   "cell_type": "code",
   "execution_count": 3,
   "id": "fcd3d0bf",
   "metadata": {},
   "outputs": [
    {
     "name": "stdout",
     "output_type": "stream",
     "text": [
      "(199115, 26)\n"
     ]
    }
   ],
   "source": [
    "print(data.shape)"
   ]
  },
  {
   "cell_type": "code",
   "execution_count": 4,
   "id": "04c5586b",
   "metadata": {},
   "outputs": [],
   "source": [
    "CST = data.iloc[:, :20]\n",
    "ACC = data.iloc[:, 20:]"
   ]
  },
  {
   "cell_type": "code",
   "execution_count": 5,
   "id": "a0bda734",
   "metadata": {},
   "outputs": [
    {
     "name": "stdout",
     "output_type": "stream",
     "text": [
      "(199115, 20)\n"
     ]
    }
   ],
   "source": [
    "print(CST.shape)"
   ]
  },
  {
   "cell_type": "code",
   "execution_count": 6,
   "id": "ac134728",
   "metadata": {},
   "outputs": [],
   "source": [
    "CST = CST.to_numpy()"
   ]
  },
  {
   "cell_type": "code",
   "execution_count": 7,
   "id": "45d7a22e",
   "metadata": {},
   "outputs": [],
   "source": [
    "arrays = [np.random.rand(200, 2) for _ in range(CST.shape[0])]\n",
    "for i,cst in enumerate(CST):\n",
    "    arrays[i] = Airfoil_DDPM_tools.CST2pointcloud(cst, 100)\n",
    "\n",
    "point_cloud = np.stack(arrays, axis=0)  # 沿第0轴堆叠"
   ]
  },
  {
   "cell_type": "code",
   "execution_count": 8,
   "id": "2e778c72",
   "metadata": {},
   "outputs": [
    {
     "name": "stdout",
     "output_type": "stream",
     "text": [
      "199115 200 2\n"
     ]
    }
   ],
   "source": [
    "print(len(arrays),len(arrays[0]),len(arrays[0][0]))"
   ]
  },
  {
   "cell_type": "code",
   "execution_count": 9,
   "id": "9dde1c7b",
   "metadata": {},
   "outputs": [
    {
     "name": "stdout",
     "output_type": "stream",
     "text": [
      "(199115, 200, 2)\n"
     ]
    }
   ],
   "source": [
    "print(point_cloud.shape)"
   ]
  },
  {
   "cell_type": "code",
   "execution_count": 10,
   "id": "eb8fb605",
   "metadata": {},
   "outputs": [],
   "source": [
    "'''\n",
    "随机打乱，这里就不采用了，到训练的时候再打乱就好\n",
    "'''\n",
    "ACC_Numpy = ACC.to_numpy()\n",
    "shuffle_idx = torch.randperm(CST.shape[0])\n",
    "shuffled_pointcloud = point_cloud[shuffle_idx]\n",
    "shuffled_ACC = (ACC.to_numpy())[shuffle_idx]"
   ]
  },
  {
   "cell_type": "code",
   "execution_count": 11,
   "id": "99bb5ce6",
   "metadata": {},
   "outputs": [
    {
     "name": "stdout",
     "output_type": "stream",
     "text": [
      "(199115, 200, 2) (199115, 6)\n"
     ]
    }
   ],
   "source": [
    "print(shuffled_pointcloud.shape, shuffled_ACC.shape)"
   ]
  },
  {
   "cell_type": "code",
   "execution_count": 12,
   "id": "4ee5df56",
   "metadata": {},
   "outputs": [],
   "source": [
    "# 保存到文件\n",
    "save_path = os.path.join(\"data\",\"train_data_pointcloud.npz\")\n",
    "np.savez(save_path, \n",
    "         pointcloud=point_cloud, \n",
    "         ACC=ACC_Numpy)"
   ]
  },
  {
   "cell_type": "code",
   "execution_count": 13,
   "id": "94e457b5",
   "metadata": {},
   "outputs": [],
   "source": [
    "loaded_data = np.load(save_path)\n",
    "loaded_pointcloud = loaded_data['pointcloud']  # 形状 [B, N, 3]\n",
    "loaded_ACC = loaded_data['ACC']                # 形状 [B, 6]"
   ]
  },
  {
   "cell_type": "code",
   "execution_count": null,
   "id": "34769431",
   "metadata": {},
   "outputs": [],
   "source": []
  }
 ],
 "metadata": {
  "kernelspec": {
   "display_name": "Python 3",
   "language": "python",
   "name": "python3"
  },
  "language_info": {
   "codemirror_mode": {
    "name": "ipython",
    "version": 3
   },
   "file_extension": ".py",
   "mimetype": "text/x-python",
   "name": "python",
   "nbconvert_exporter": "python",
   "pygments_lexer": "ipython3",
   "version": "3.12.1"
  }
 },
 "nbformat": 4,
 "nbformat_minor": 5
}
