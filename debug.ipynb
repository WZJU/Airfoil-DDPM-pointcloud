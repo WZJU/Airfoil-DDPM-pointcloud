{
 "cells": [
  {
   "cell_type": "code",
   "execution_count": 1,
   "id": "30ae76ac",
   "metadata": {},
   "outputs": [],
   "source": [
    "import torch\n",
    "from torch import nn, einsum, Tensor\n",
    "from torch.nn import Module\n",
    "import torch.nn.functional as F\n",
    "from Airfoil_DDPM_pointcloud import CrossAttention, Unet"
   ]
  },
  {
   "cell_type": "code",
   "execution_count": 7,
   "id": "4e0eda94",
   "metadata": {},
   "outputs": [],
   "source": [
    "unet = Unet( num = [200, 100, 50, 100, 200], dim = [1, 2, 4, 2, 1], context_dim_1 = 3, context_dim_2 = 3, dropout = 0.)\n",
    "Xattention = CrossAttention(query_dim = 1, out_dim =2, context_dim=3, heads=8, dim_head=64, dropout=0.)"
   ]
  },
  {
   "cell_type": "code",
   "execution_count": 8,
   "id": "bd0d2b01",
   "metadata": {},
   "outputs": [],
   "source": [
    "input = torch.randn([100, 1, 200]) #[B, Dim, N]\n",
    "time_emb = torch.randn([100,1])\n",
    "context = torch.rand([100, 1, 3])#[B, num, context_dim]"
   ]
  },
  {
   "cell_type": "code",
   "execution_count": 9,
   "id": "931c0a2d",
   "metadata": {},
   "outputs": [],
   "source": [
    "Xatten_output = Xattention(input,context)"
   ]
  },
  {
   "cell_type": "code",
   "execution_count": 10,
   "id": "aa9b1ec1",
   "metadata": {},
   "outputs": [],
   "source": [
    "Unet_output = unet(input, time_emb)"
   ]
  },
  {
   "cell_type": "code",
   "execution_count": 11,
   "id": "79c639c1",
   "metadata": {},
   "outputs": [
    {
     "name": "stdout",
     "output_type": "stream",
     "text": [
      "torch.Size([100, 1, 200])\n"
     ]
    }
   ],
   "source": [
    "print(Unet_output.shape)"
   ]
  }
 ],
 "metadata": {
  "kernelspec": {
   "display_name": "Python 3",
   "language": "python",
   "name": "python3"
  },
  "language_info": {
   "codemirror_mode": {
    "name": "ipython",
    "version": 3
   },
   "file_extension": ".py",
   "mimetype": "text/x-python",
   "name": "python",
   "nbconvert_exporter": "python",
   "pygments_lexer": "ipython3",
   "version": "3.12.1"
  }
 },
 "nbformat": 4,
 "nbformat_minor": 5
}
