{
 "cells": [
  {
   "cell_type": "code",
   "execution_count": 3,
   "id": "30ae76ac",
   "metadata": {},
   "outputs": [],
   "source": [
    "import torch\n",
    "from torch import nn, einsum, Tensor\n",
    "from torch.nn import Module\n",
    "import torch.nn.functional as F\n",
    "from Airfoil_DDPM_pointcloud import CrossAttention, Unet"
   ]
  },
  {
   "cell_type": "code",
   "execution_count": null,
   "id": "4e0eda94",
   "metadata": {},
   "outputs": [],
   "source": [
    "unet = Unet( num_in  = [1,2,4,2,1], query_dim = [20, 10, 5, 10, 20], context_dim_1 = 3, context_dim_2 = 3, dropout = 0.)\n",
    "Xattention = CrossAttention(query_dim = 20, context_dim=3, heads=8, dim_head=64, dropout=0.)"
   ]
  },
  {
   "cell_type": "code",
   "execution_count": null,
   "id": "bd0d2b01",
   "metadata": {},
   "outputs": [],
   "source": [
    "input = torch.randn([100, 1, 20])\n",
    "time_emb = torch.randn([100,1])"
   ]
  },
  {
   "cell_type": "code",
   "execution_count": null,
   "id": "931c0a2d",
   "metadata": {},
   "outputs": [],
   "source": [
    "Xatten_output = Xattention(input)"
   ]
  },
  {
   "cell_type": "code",
   "execution_count": null,
   "id": "aa9b1ec1",
   "metadata": {},
   "outputs": [],
   "source": [
    "Unet_output = unet(input, time_emb)"
   ]
  },
  {
   "cell_type": "code",
   "execution_count": null,
   "id": "79c639c1",
   "metadata": {},
   "outputs": [],
   "source": [
    "print(Unet_output.shape)"
   ]
  },
  {
   "cell_type": "code",
   "execution_count": 1,
   "id": "03951b34",
   "metadata": {},
   "outputs": [],
   "source": [
    "import Airfoil_DDPM_tools"
   ]
  },
  {
   "cell_type": "code",
   "execution_count": 4,
   "id": "61e974a5",
   "metadata": {},
   "outputs": [],
   "source": [
    "batch_CST = torch.randn([100,20])"
   ]
  },
  {
   "cell_type": "code",
   "execution_count": 5,
   "id": "ec45564a",
   "metadata": {},
   "outputs": [],
   "source": [
    "batch_pointcloud = Airfoil_DDPM_tools.batch_CST2pointcloud(batch_CST, 100)"
   ]
  },
  {
   "cell_type": "code",
   "execution_count": 10,
   "id": "a057f875",
   "metadata": {},
   "outputs": [
    {
     "name": "stdout",
     "output_type": "stream",
     "text": [
      "列表尺寸: 100 x 200x 2\n"
     ]
    }
   ],
   "source": [
    "# 完整尺寸信息\n",
    "print(f\"列表尺寸: {len(batch_pointcloud)} x {len(batch_pointcloud[0])}x {len(batch_pointcloud[0][0])}\" if batch_pointcloud else \"空列表\")"
   ]
  }
 ],
 "metadata": {
  "kernelspec": {
   "display_name": "Python 3",
   "language": "python",
   "name": "python3"
  },
  "language_info": {
   "codemirror_mode": {
    "name": "ipython",
    "version": 3
   },
   "file_extension": ".py",
   "mimetype": "text/x-python",
   "name": "python",
   "nbconvert_exporter": "python",
   "pygments_lexer": "ipython3",
   "version": "3.12.1"
  }
 },
 "nbformat": 4,
 "nbformat_minor": 5
}
