{
 "cells": [
  {
   "cell_type": "code",
   "execution_count": 1,
   "id": "30ae76ac",
   "metadata": {},
   "outputs": [],
   "source": [
    "import torch\n",
    "from torch import nn, einsum, Tensor\n",
    "from torch.nn import Module\n",
    "import torch.nn.functional as F\n",
    "from Airfoil_DDPM_pointcloudV2 import CrossAttention, Block, PointNetEncoder, ResnetBlock, Unet"
   ]
  },
  {
   "cell_type": "code",
   "execution_count": 2,
   "id": "4e0eda94",
   "metadata": {},
   "outputs": [],
   "source": [
    "\n",
    "Xattention = CrossAttention(query_dim = 2, out_dim =2, context_dim=128, heads=4, dim_head=32, dropout=0.)"
   ]
  },
  {
   "cell_type": "code",
   "execution_count": 3,
   "id": "bd0d2b01",
   "metadata": {},
   "outputs": [],
   "source": [
    "x = torch.randn([999, 2, 200]) #[B, Dim, N]\n",
    "time_emb = torch.randn([999,1])\n",
    "context = torch.rand([999, 128, 1])#[B, num, context_dim]"
   ]
  },
  {
   "cell_type": "code",
   "execution_count": 4,
   "id": "931c0a2d",
   "metadata": {},
   "outputs": [],
   "source": [
    "Xatten_output = Xattention(x,context)"
   ]
  },
  {
   "cell_type": "code",
   "execution_count": 5,
   "id": "78147548",
   "metadata": {},
   "outputs": [
    {
     "name": "stdout",
     "output_type": "stream",
     "text": [
      "torch.Size([999, 2, 200])\n"
     ]
    }
   ],
   "source": [
    "print(Xatten_output.shape)"
   ]
  },
  {
   "cell_type": "code",
   "execution_count": 6,
   "id": "42f6381a",
   "metadata": {},
   "outputs": [],
   "source": [
    "block = Block(dim = 2)"
   ]
  },
  {
   "cell_type": "code",
   "execution_count": 7,
   "id": "f1fc1a3a",
   "metadata": {},
   "outputs": [],
   "source": [
    "block_output = block(x)"
   ]
  },
  {
   "cell_type": "code",
   "execution_count": 8,
   "id": "6085fb09",
   "metadata": {},
   "outputs": [
    {
     "name": "stdout",
     "output_type": "stream",
     "text": [
      "torch.Size([999, 2, 200])\n"
     ]
    }
   ],
   "source": [
    "print(block_output.shape)"
   ]
  },
  {
   "cell_type": "code",
   "execution_count": 9,
   "id": "19c7753e",
   "metadata": {},
   "outputs": [],
   "source": [
    "encoder = PointNetEncoder(dim =2)"
   ]
  },
  {
   "cell_type": "code",
   "execution_count": 10,
   "id": "280e5a52",
   "metadata": {},
   "outputs": [],
   "source": [
    "encoder_output = encoder(x)"
   ]
  },
  {
   "cell_type": "code",
   "execution_count": 11,
   "id": "09eb8276",
   "metadata": {},
   "outputs": [
    {
     "name": "stdout",
     "output_type": "stream",
     "text": [
      "torch.Size([999, 128, 1])\n"
     ]
    }
   ],
   "source": [
    "print(encoder_output.shape)"
   ]
  },
  {
   "cell_type": "code",
   "execution_count": 12,
   "id": "85a15aa2",
   "metadata": {},
   "outputs": [],
   "source": [
    "xatten_output = Xattention(x,encoder_output)"
   ]
  },
  {
   "cell_type": "code",
   "execution_count": 13,
   "id": "788d57df",
   "metadata": {},
   "outputs": [
    {
     "name": "stdout",
     "output_type": "stream",
     "text": [
      "torch.Size([999, 2, 200])\n"
     ]
    }
   ],
   "source": [
    "print(xatten_output.shape)"
   ]
  },
  {
   "cell_type": "code",
   "execution_count": 14,
   "id": "f7557fb5",
   "metadata": {},
   "outputs": [],
   "source": [
    "resnet = ResnetBlock(2, time_emb_dim = 1)"
   ]
  },
  {
   "cell_type": "code",
   "execution_count": 15,
   "id": "7df63479",
   "metadata": {},
   "outputs": [],
   "source": [
    "resnet_output = resnet(x, time_emb)"
   ]
  },
  {
   "cell_type": "code",
   "execution_count": 16,
   "id": "432b010d",
   "metadata": {},
   "outputs": [
    {
     "name": "stdout",
     "output_type": "stream",
     "text": [
      "torch.Size([999, 2, 200]) torch.Size([999, 2, 200])\n"
     ]
    }
   ],
   "source": [
    "print(x.shape, resnet_output.shape)"
   ]
  },
  {
   "cell_type": "code",
   "execution_count": 17,
   "id": "6553cf73",
   "metadata": {},
   "outputs": [],
   "source": [
    "unet = Unet(dim = 2, encoder_dim=128, time_emb_dim=1, context_dim_1 = 3, context_dim_2 = 3, dropout = 0.)"
   ]
  },
  {
   "cell_type": "code",
   "execution_count": 21,
   "id": "aa9b1ec1",
   "metadata": {},
   "outputs": [],
   "source": [
    "Unet_output = unet(x, time_emb)"
   ]
  },
  {
   "cell_type": "code",
   "execution_count": 19,
   "id": "79c639c1",
   "metadata": {},
   "outputs": [
    {
     "name": "stdout",
     "output_type": "stream",
     "text": [
      "torch.Size([999, 2, 200])\n"
     ]
    }
   ],
   "source": [
    "print(Unet_output.shape)"
   ]
  }
 ],
 "metadata": {
  "kernelspec": {
   "display_name": "Python 3",
   "language": "python",
   "name": "python3"
  },
  "language_info": {
   "codemirror_mode": {
    "name": "ipython",
    "version": 3
   },
   "file_extension": ".py",
   "mimetype": "text/x-python",
   "name": "python",
   "nbconvert_exporter": "python",
   "pygments_lexer": "ipython3",
   "version": "3.12.1"
  }
 },
 "nbformat": 4,
 "nbformat_minor": 5
}
