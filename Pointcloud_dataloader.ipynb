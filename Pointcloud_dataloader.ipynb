{
 "cells": [
  {
   "cell_type": "code",
   "execution_count": null,
   "id": "3c0d1165",
   "metadata": {},
   "outputs": [],
   "source": [
    "import os\n",
    "import numpy as np\n",
    "import torch\n",
    "from torch.utils.data import Dataset, DataLoader"
   ]
  },
  {
   "cell_type": "code",
   "execution_count": null,
   "id": "b8c45041",
   "metadata": {},
   "outputs": [],
   "source": [
    "class PointCloudACCDataset(Dataset):\n",
    "    def __init__(self, pointcloud, context):\n",
    "        \"\"\"\n",
    "        Args:\n",
    "            pointcloud: NumPy数组 [B, N, C]\n",
    "            context: NumPy数组 [B, 6]\n",
    "        \"\"\"\n",
    "        self.pointcloud = torch.from_numpy(pointcloud).float()  # 转为Tensor [B, N, C]\n",
    "        self.context_1 = torch.from_numpy(context[:,:3]).float()  # 转为Tensor [B, 3]\n",
    "        self.context_2 = torch.from_numpy(context[:,3:]).float()  # 转为Tensor [B, 3]\n",
    "        \n",
    "        assert len(self.pointcloud) == len(self.context_1), \"数据长度不一致\"\n",
    "\n",
    "    def __len__(self):\n",
    "        return len(self.pointcloud)\n",
    "\n",
    "    def __getitem__(self, idx):\n",
    "        return {\n",
    "            'pointcloud': self.pointcloud[idx],  # 形状 [N, C]\n",
    "            'context_1': self.context_1[idx],    # 形状 [3]\n",
    "            'context_2': self.context_2[idx]     # 形状 [3]\n",
    "        }\n",
    "    '''\n",
    "    Dataloader使用示例\n",
    "    for batch in dataloader:\n",
    "        pointcloud_batch = batch['pointcloud']  # 形状 [batch_size, N, C]\n",
    "        context_1 = batch['context_1']                # 形状 [batch_size, 3]\n",
    "        context_2 = batch['context_2']                # 形状 [batch_size, 3]\n",
    "    '''"
   ]
  },
  {
   "cell_type": "code",
   "execution_count": null,
   "id": "af4eb67a",
   "metadata": {},
   "outputs": [],
   "source": [
    "'''Load Data'''\n",
    "data_path = os.path.join(\"../data/train_data_pointcloud.npz\")\n",
    "data = np.load(data_path)\n",
    "loaded_pointcloud = np.transpose(data['pointcloud'],(0,2,1))  # 形状 [B, N, D]-> [B, D, N]\n",
    "loaded_ACC = data['ACC']    "
   ]
  },
  {
   "cell_type": "code",
   "execution_count": null,
   "id": "981f37b5",
   "metadata": {},
   "outputs": [],
   "source": [
    "len = loaded_pointcloud.shape[0]\n",
    "train_len = len * 0.8\n",
    "train_dataset = PointCloudACCDataset(loaded_pointcloud[:train_len], loaded_ACC[:train_len])\n",
    "train_dataloader = DataLoader(\n",
    "    train_dataset,\n",
    "    batch_size=10,#这不用注释了吧\n",
    "    shuffle=True,# 打乱\n",
    "    num_workers=2,# 多进程加载数\n",
    "    pin_memory=True  # 加速GPU传输\n",
    ")"
   ]
  },
  {
   "cell_type": "code",
   "execution_count": null,
   "id": "cf118d9e",
   "metadata": {},
   "outputs": [],
   "source": [
    "for batch in train_dataloader:\n",
    "        pointcloud_batch = batch['pointcloud']  # 形状 [batch_size, N, C]\n",
    "        context_1 = batch['context_1']                # 形状 [batch_size, 3]\n",
    "        context_2 = batch['context_2']                # 形状 [batch_size, 3]\n",
    "        break"
   ]
  }
 ],
 "metadata": {
  "language_info": {
   "name": "python"
  }
 },
 "nbformat": 4,
 "nbformat_minor": 5
}
